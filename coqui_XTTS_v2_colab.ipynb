{
  "cells": [
    {
      "cell_type": "markdown",
      "metadata": {
        "id": "view-in-github",
        "colab_type": "text"
      },
      "source": [
        "<a href=\"https://colab.research.google.com/github/dbrckk/coqui-XTTS-colab/blob/main/coqui_XTTS_v2_colab.ipynb\" target=\"_parent\"><img src=\"https://colab.research.google.com/assets/colab-badge.svg\" alt=\"Open In Colab\"/></a>"
      ]
    },
    {
      "cell_type": "code",
      "execution_count": null,
      "metadata": {
        "id": "VjYy0F2gZIPR"
      },
      "outputs": [],
      "source": [
        "# Accéder au répertoire de travail\n",
        "%cd /content\n",
        "\n",
        "# Cloner le dépôt xtts2-hf dans la branche dev\n",
        "!git clone -b dev https://github.com/camenduru/xtts2-hf\n",
        "%cd /content/xtts2-hf\n",
        "\n",
        "# Installer les dépendances\n",
        "!pip install -q gradio==3.50.2 TTS==0.21.1 langid unidic-lite unidic deepspeed\n",
        "\n",
        "# Assurez-vous que numpy est dans la version spécifiée pour éviter les conflits\n",
        "!pip install -q numpy<2.0.0 -U\n",
        "\n",
        "# Télécharger les exemples de fichiers audio\n",
        "!wget -q https://huggingface.co/spaces/coqui/xtts/resolve/main/examples/female.wav -O /content/xtts2-hf/examples/female.wav\n",
        "!wget -q https://huggingface.co/spaces/coqui/xtts/resolve/main/examples/male.wav -O /content/xtts2-hf/examples/male.wav\n",
        "\n",
        "# Télécharger et extraire ffmpeg\n",
        "!wget -q https://huggingface.co/spaces/coqui/xtts/resolve/main/ffmpeg.zip -O /content/xtts2-hf/ffmpeg.zip\n",
        "!unzip -o /content/xtts2-hf/ffmpeg.zip -d /content/xtts2-hf/\n",
        "\n",
        "# Vérifier la version de transformers (optionnel)\n",
        "!pip install -q transformers==4.31.0\n",
        "\n",
        "# Exécuter l'application\n",
        "!python app.py\n"
      ]
    }
  ],
  "metadata": {
    "accelerator": "GPU",
    "colab": {
      "gpuType": "T4",
      "provenance": [],
      "include_colab_link": true
    },
    "kernelspec": {
      "display_name": "Python 3",
      "name": "python3"
    },
    "language_info": {
      "name": "python"
    }
  },
  "nbformat": 4,
  "nbformat_minor": 0
}